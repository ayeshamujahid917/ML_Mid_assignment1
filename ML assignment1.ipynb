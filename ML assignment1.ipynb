{
 "cells": [
  {
   "cell_type": "markdown",
   "metadata": {},
   "source": [
    "import numpy as np\n",
    "import scipy as sp\n",
    "from scipy.linalg import null_space\n",
    "from numpy.linalg import inv\n",
    "from matplotlib.image import imread\n",
    "import matplotlib.pyplot as plt\n",
    "import pandas as pd\n",
    "import math \n",
    "from scipy import stats\n",
    "import random\n",
    "from numpy.random import seed\n",
    "from numpy.random import rand\n",
    "from numpy.random import randn\n",
    "from scipy.stats import pearsonr\n",
    "from scipy.stats import ttest_ind\n",
    "from scipy.stats import mannwhitneyu\n",
    "from sklearn.preprocessing import MinMaxScaler\n",
    "from sklearn.svm import SVC\n",
    "from sklearn import metrics\n",
    "from sklearn.decomposition import PCA\n",
    "from scipy.io import Waverley\n",
    "from scipy.io.Waverley import write\n",
    "import wave\n",
    "import sys"
   ]
  },
  {
   "cell_type": "code",
   "execution_count": 1,
   "metadata": {},
   "outputs": [
    {
     "name": "stdout",
     "output_type": "stream",
     "text": [
      "[3, 4, 7, 8, 15]\n",
      "[27]\n",
      "[27, 64]\n",
      "[27, 64, 343]\n",
      "[27, 64, 343, 512]\n",
      "[27, 64, 343, 512, 3375]\n",
      "[3, 4, 7, 8, 15, 27, 64, 343, 512, 3375]\n"
     ]
    }
   ],
   "source": [
    "#Task 1\n",
    "#lists\n",
    "numbers = [3, 4, 7, 8, 15]\n",
    "print(numbers)\n",
    "cubes=[]\n",
    "for i in numbers:\n",
    "    cubes.append((i**3))\n",
    "    print(cubes)\n",
    "numbers.extend(cubes)\n",
    "print(numbers)\n",
    "\n"
   ]
  },
  {
   "cell_type": "code",
   "execution_count": 2,
   "metadata": {},
   "outputs": [
    {
     "name": "stdout",
     "output_type": "stream",
     "text": [
      "{}\n",
      "person has 2 legs\n",
      "cat has 4 legs\n",
      "spider has 8 legs\n",
      "horse has 4 legs\n",
      "Total legs are 18\n"
     ]
    }
   ],
   "source": [
    "#Dictionaries\n",
    "dic = {}\n",
    "print(dic)\n",
    "dic={'person':2, 'cat':4, 'spider':8, 'horse':4}\n",
    "for key, value in dic.items():\n",
    "  print(key, \"has\", value, \"legs\")\n",
    "\n",
    "print(\"Total legs are\", sum(dic.values()))"
   ]
  },
  {
   "cell_type": "code",
   "execution_count": 3,
   "metadata": {},
   "outputs": [
    {
     "name": "stdout",
     "output_type": "stream",
     "text": [
      "(1, 15, 4, [5, 10])\n",
      "(1, 15, 4, (3, 5))\n"
     ]
    },
    {
     "ename": "NameError",
     "evalue": "name 'x' is not defined",
     "output_type": "error",
     "traceback": [
      "\u001b[1;31m---------------------------------------------------------------------------\u001b[0m",
      "\u001b[1;31mNameError\u001b[0m                                 Traceback (most recent call last)",
      "\u001b[1;32mc:\\Users\\sweet\\Downloads\\ML assignment1.ipynb Cell 4'\u001b[0m in \u001b[0;36m<cell line: 11>\u001b[1;34m()\u001b[0m\n\u001b[0;32m      <a href='vscode-notebook-cell:/c%3A/Users/sweet/Downloads/ML%20assignment1.ipynb#ch0000003?line=8'>9</a>\u001b[0m \u001b[39mdel\u001b[39;00m x\n\u001b[0;32m     <a href='vscode-notebook-cell:/c%3A/Users/sweet/Downloads/ML%20assignment1.ipynb#ch0000003?line=9'>10</a>\u001b[0m \u001b[39m#now showing that tuple is deleted\u001b[39;00m\n\u001b[1;32m---> <a href='vscode-notebook-cell:/c%3A/Users/sweet/Downloads/ML%20assignment1.ipynb#ch0000003?line=10'>11</a>\u001b[0m \u001b[39mprint\u001b[39m(x) \n\u001b[0;32m     <a href='vscode-notebook-cell:/c%3A/Users/sweet/Downloads/ML%20assignment1.ipynb#ch0000003?line=11'>12</a>\u001b[0m \u001b[39m#count no\u001b[39;00m\n\u001b[0;32m     <a href='vscode-notebook-cell:/c%3A/Users/sweet/Downloads/ML%20assignment1.ipynb#ch0000003?line=12'>13</a>\u001b[0m E \u001b[39m=\u001b[39m (\u001b[39m'\u001b[39m\u001b[39ma\u001b[39m\u001b[39m'\u001b[39m,\u001b[39m'\u001b[39m\u001b[39mp\u001b[39m\u001b[39m'\u001b[39m,\u001b[39m'\u001b[39m\u001b[39mp\u001b[39m\u001b[39m'\u001b[39m,\u001b[39m'\u001b[39m\u001b[39ml\u001b[39m\u001b[39m'\u001b[39m,\u001b[39m'\u001b[39m\u001b[39me\u001b[39m\u001b[39m'\u001b[39m)\n",
      "\u001b[1;31mNameError\u001b[0m: name 'x' is not defined"
     ]
    }
   ],
   "source": [
    "#tuples\n",
    "D = (1,15,4,[5,10])\n",
    "print(D)\n",
    "x = (1,15,4,[5,10])\n",
    "y = list(x)\n",
    "y[3] = 3,5\n",
    "x = tuple(y)\n",
    "print(x)\n",
    "del x\n",
    "#now showing that tuple is deleted\n",
    "print(x) \n",
    "#count no\n",
    "E = ('a','p','p','l','e')\n",
    "x = E.count('p')\n",
    "print(x, \"times\")\n",
    "x = E.index('l')\n",
    "print(x)"
   ]
  },
  {
   "cell_type": "code",
   "execution_count": null,
   "metadata": {},
   "outputs": [
    {
     "name": "stdout",
     "output_type": "stream",
     "text": [
      "2 times p occurs in tuple\n",
      "3\n"
     ]
    }
   ],
   "source": [
    "E = ('a','p','p','l','e')\n",
    "x = E.count('p')\n",
    "print(x, \"times p occurs in tuple\")\n",
    "x = E.index('l')\n",
    "print(x)"
   ]
  }
 ],
 "metadata": {
  "interpreter": {
   "hash": "c1c55e23d6abfe2eb77c0716ddabea1065e8bc50c9c8c75ecdeae12c65a1e95e"
  },
  "kernelspec": {
   "display_name": "Python 3.10.4 64-bit",
   "language": "python",
   "name": "python3"
  },
  "language_info": {
   "codemirror_mode": {
    "name": "ipython",
    "version": 3
   },
   "file_extension": ".py",
   "mimetype": "text/x-python",
   "name": "python",
   "nbconvert_exporter": "python",
   "pygments_lexer": "ipython3",
   "version": "3.10.4"
  },
  "orig_nbformat": 4
 },
 "nbformat": 4,
 "nbformat_minor": 2
}
